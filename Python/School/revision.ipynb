{
 "cells": [
  {
   "cell_type": "markdown",
   "metadata": {},
   "source": [
    "# T1 - Programming Fundamentals"
   ]
  },
  {
   "cell_type": "markdown",
   "metadata": {},
   "source": [
    "## Data Type - Type of data assigned to a variable\n",
    "## This could be an int, string, float or boolean"
   ]
  },
  {
   "cell_type": "code",
   "execution_count": null,
   "metadata": {},
   "outputs": [],
   "source": [
    "name = str()\n",
    "age = int()\n",
    "multiplier = float()\n",
    "yes_no = bool()"
   ]
  },
  {
   "cell_type": "markdown",
   "metadata": {},
   "source": [
    "Operators - Used for mathematical operations\n",
    "This could be:\n",
    "+ * **\n",
    "- / //\n",
    "\n",
    "Difference between variables and constants:\n",
    "Variables are mutable, meaning their value can change,\n",
    "but constants are immutable, so their value always stays the same.\n",
    "In Python, constants aren't there by default, but it is possible to implement a solution in Python"
   ]
  },
  {
   "cell_type": "code",
   "execution_count": 3,
   "metadata": {},
   "outputs": [
    {
     "name": "stdout",
     "output_type": "stream",
     "text": [
      "Foo = 1234\n"
     ]
    },
    {
     "ename": "AttributeError",
     "evalue": "'CONST' object attribute 'FOO' is read-only",
     "output_type": "error",
     "traceback": [
      "\u001b[0;31m---------------------------------------------------------------------------\u001b[0m",
      "\u001b[0;31mAttributeError\u001b[0m                            Traceback (most recent call last)",
      "\u001b[1;32m/Users/kishore/Projects/Python/School/revision.ipynb Cell 5'\u001b[0m in \u001b[0;36m<module>\u001b[0;34m\u001b[0m\n\u001b[1;32m      <a href='vscode-notebook-cell:/Users/kishore/Projects/Python/School/revision.ipynb#ch0000009?line=8'>9</a>\u001b[0m const \u001b[39m=\u001b[39m CONST()\n\u001b[1;32m     <a href='vscode-notebook-cell:/Users/kishore/Projects/Python/School/revision.ipynb#ch0000009?line=10'>11</a>\u001b[0m \u001b[39mprint\u001b[39m(\u001b[39m\"\u001b[39m\u001b[39mFoo = \u001b[39m\u001b[39m\"\u001b[39m \u001b[39m+\u001b[39m \u001b[39mstr\u001b[39m(const\u001b[39m.\u001b[39mFOO))\n\u001b[0;32m---> <a href='vscode-notebook-cell:/Users/kishore/Projects/Python/School/revision.ipynb#ch0000009?line=12'>13</a>\u001b[0m const\u001b[39m.\u001b[39mFOO \u001b[39m=\u001b[39m \u001b[39m4321\u001b[39m\n",
      "\u001b[0;31mAttributeError\u001b[0m: 'CONST' object attribute 'FOO' is read-only"
     ]
    }
   ],
   "source": [
    "# Typically, to define a constant you would create a variable in all caps,\n",
    "# and then add a commment saying that the variable should be a constant.\n",
    "# However, it is possible to go about this a different way\n",
    "\n",
    "class CONST(object):\n",
    "    __slots__ = ()\n",
    "    FOO = 1234\n",
    "\n",
    "const = CONST()\n",
    "\n",
    "print(\"Foo = \" + str(const.FOO))\n",
    "\n",
    "const.FOO = 4321"
   ]
  }
 ],
 "metadata": {
  "interpreter": {
   "hash": "5984c07bd85a09704efeebc43c280456997f3d9e1810f10980d19f89f173e200"
  },
  "kernelspec": {
   "display_name": "Python 3.9.10 64-bit",
   "language": "python",
   "name": "python3"
  },
  "language_info": {
   "codemirror_mode": {
    "name": "ipython",
    "version": 3
   },
   "file_extension": ".py",
   "mimetype": "text/x-python",
   "name": "python",
   "nbconvert_exporter": "python",
   "pygments_lexer": "ipython3",
   "version": "3.9.10"
  },
  "orig_nbformat": 4
 },
 "nbformat": 4,
 "nbformat_minor": 2
}
