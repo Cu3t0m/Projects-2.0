{
 "cells": [
  {
   "cell_type": "code",
   "execution_count": 1,
   "metadata": {},
   "outputs": [
    {
     "name": "stdout",
     "output_type": "stream",
     "text": [
      "Original word: Word\n",
      "The new word is:  Wrod\n"
     ]
    }
   ],
   "source": [
    "import random\n",
    "\n",
    "def main():\n",
    "    # Enter word to scramble\n",
    "    word = input(\"Enter word: \")\n",
    "\n",
    "    # Defining two lists, one for the word, the other for a new list that will be printed out later\n",
    "    shuffle_list = list(word)\n",
    "    new_list = []\n",
    "\n",
    "    # Repeats for the amount of items in list \"shuffle_list\"\n",
    "    for i in range(len(shuffle_list)):\n",
    "        # Takes a random index from \"shuffle_list\" and assigns \"changed_index\" the value of \n",
    "        # the randomised index of \"shuffle_list\"\n",
    "        shuffle_index = (random.randint(0, len(shuffle_list)-1))\n",
    "        changed_index = shuffle_list[shuffle_index]\n",
    "        # Removes the index randomly chosen, and appends \"changed_index\" to \"new_list\"\n",
    "        shuffle_list.pop(shuffle_index)\n",
    "        new_list.append(changed_index)\n",
    "    \n",
    "    # Prints out the original word and then the new word\n",
    "    print(\"Original word:\", word)\n",
    "    print(\"The new word is: \",\"\".join(new_list))\n",
    "\n",
    "if __name__ == \"__main__\":\n",
    "    main()"
   ]
  }
 ],
 "metadata": {
  "interpreter": {
   "hash": "5984c07bd85a09704efeebc43c280456997f3d9e1810f10980d19f89f173e200"
  },
  "kernelspec": {
   "display_name": "Python 3.9.10 64-bit",
   "language": "python",
   "name": "python3"
  },
  "language_info": {
   "codemirror_mode": {
    "name": "ipython",
    "version": 3
   },
   "file_extension": ".py",
   "mimetype": "text/x-python",
   "name": "python",
   "nbconvert_exporter": "python",
   "pygments_lexer": "ipython3",
   "version": "3.9.10"
  },
  "orig_nbformat": 4
 },
 "nbformat": 4,
 "nbformat_minor": 2
}
